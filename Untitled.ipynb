{
 "cells": [
  {
   "cell_type": "code",
   "execution_count": 1,
   "metadata": {},
   "outputs": [],
   "source": [
    "import os\n",
    "from glob import glob\n",
    "import sys\n",
    "from shutil import copyfile\n",
    "\n",
    "sys.path.append(\"tools/\")\n",
    "from schemacode.schema import load_schema"
   ]
  },
  {
   "cell_type": "code",
   "execution_count": 2,
   "metadata": {},
   "outputs": [
    {
     "name": "stderr",
     "output_type": "stream",
     "text": [
      "tools/schemacode/schema.py:60: UserWarning: src/schema/README.md is somehow nothing we can load\n",
      "  warn(f\"{schema_path} is somehow nothing we can load\")\n"
     ]
    }
   ],
   "source": [
    "schema = load_schema(\"src/schema/\")"
   ]
  },
  {
   "cell_type": "code",
   "execution_count": 3,
   "metadata": {},
   "outputs": [],
   "source": [
    "suffixes = []\n",
    "for subschema in schema[\"datatypes\"].values():\n",
    "    for item in subschema:\n",
    "        if \"suffixes\" in item.keys():\n",
    "            subschema_suffixes = item[\"suffixes\"]\n",
    "            suffixes += subschema_suffixes\n",
    "suffixes = sorted(list(set(suffixes)))"
   ]
  },
  {
   "cell_type": "code",
   "execution_count": 4,
   "metadata": {},
   "outputs": [],
   "source": [
    "out_dir = \"src/schema/suffixes/\"\n",
    "template_file = os.path.join(out_dir, \"_template.yaml\")\n",
    "for suff in suffixes:\n",
    "    suff_file = os.path.join(out_dir, f\"{suff}.yaml\")\n",
    "    if not os.path.isfile(suff_file):\n",
    "        copyfile(template_file, suff_file)"
   ]
  },
  {
   "cell_type": "code",
   "execution_count": null,
   "metadata": {},
   "outputs": [],
   "source": []
  }
 ],
 "metadata": {
  "kernelspec": {
   "display_name": "Python 3",
   "language": "python",
   "name": "python3"
  },
  "language_info": {
   "codemirror_mode": {
    "name": "ipython",
    "version": 3
   },
   "file_extension": ".py",
   "mimetype": "text/x-python",
   "name": "python",
   "nbconvert_exporter": "python",
   "pygments_lexer": "ipython3",
   "version": "3.8.5"
  }
 },
 "nbformat": 4,
 "nbformat_minor": 4
}
