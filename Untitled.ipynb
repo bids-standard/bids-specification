{
 "cells": [
  {
   "cell_type": "code",
   "execution_count": 1,
   "metadata": {},
   "outputs": [],
   "source": [
    "import sys, os\n",
    "\n",
    "sys.path.append(\"tools/\")\n",
    "\n",
    "from schemacode.example import DirectoryTree\n",
    "\n",
    "\n",
    "directory = [\n",
    "            \"dataset_description.json\",\n",
    "            {\"sub-01\":\n",
    "                [\"sessions.tsv\",\n",
    "                {\"ses-01\": \n",
    "                    [\n",
    "                    {\"anat\":\n",
    "                        [\"sub-01_part-mag_T1w.nii.gz\",\n",
    "                        \"sub-01_part-mag_T1w.json\",\n",
    "                        \"sub-01_part-phase_T1w.nii.gz\",\n",
    "                        \"sub-01_part-phase_T1w.json\",\n",
    "                        ]\n",
    "                    },\n",
    "                    \"scans.tsv\"\n",
    "                    ]\n",
    "                },\n",
    "                {\"ses-02\":\n",
    "                 [\n",
    "                    {\"func\":\n",
    "                        [\"sub-01_bold.nii.gz\",\n",
    "                        ]\n",
    "                    }\n",
    "                 ]\n",
    "                }\n",
    "                ]\n",
    "            }\n",
    "            ]\n",
    "\n",
    "directory_list =  [\n",
    "                \"sub-01_part-mag_T1w.nii.gz\",\n",
    "                \"sub-01_part-mag_T1w.json\",\n",
    "                \"sub-01_part-phase_T1w.nii.gz\",\n",
    "                \"sub-01_part-phase_T1w.json\",\n",
    "             ]\n",
    "\n",
    "directory_dict =  {\n",
    "                    \"sub-01\": [\n",
    "                        \"sub-01_part-mag_T1w.nii.gz\",\n",
    "                        \"sub-01_part-mag_T1w.json\",\n",
    "                        \"sub-01_part-phase_T1w.nii.gz\",\n",
    "                        \"sub-01_part-phase_T1w.json\",\n",
    "                        ],\n",
    "                    \"sub-02\": [\n",
    "                        \"sub-02_part-mag_T1w.nii.gz\",\n",
    "                    ]\n",
    "                    }\n"
   ]
  },
  {
   "cell_type": "code",
   "execution_count": 3,
   "metadata": {},
   "outputs": [
    {
     "name": "stdout",
     "output_type": "stream",
     "text": [
      "├── sub-01_part-mag_T1w.nii.gz\n",
      "├── sub-01_part-mag_T1w.json\n",
      "├── sub-01_part-phase_T1w.nii.gz\n",
      "└── sub-01_part-phase_T1w.json\n"
     ]
    }
   ],
   "source": [
    "tree = DirectoryTree(directory_list)\n",
    "tree.generate()"
   ]
  },
  {
   "cell_type": "code",
   "execution_count": 4,
   "metadata": {},
   "outputs": [
    {
     "name": "stdout",
     "output_type": "stream",
     "text": [
      "├── sub-01/\n",
      "│   ├── sub-01_part-mag_T1w.nii.gz\n",
      "│   ├── sub-01_part-mag_T1w.json\n",
      "│   ├── sub-01_part-phase_T1w.nii.gz\n",
      "│   └── sub-01_part-phase_T1w.json\n",
      "│\n",
      "└── sub-02/\n",
      "    └── sub-02_part-mag_T1w.nii.gz\n",
      "\n"
     ]
    }
   ],
   "source": [
    "tree = DirectoryTree(directory_dict)\n",
    "tree.generate()"
   ]
  },
  {
   "cell_type": "code",
   "execution_count": 5,
   "metadata": {},
   "outputs": [
    {
     "name": "stdout",
     "output_type": "stream",
     "text": [
      "├── dataset_description.json\n",
      "└── {'sub-01': ['sessions.tsv', {'ses-01': [{'anat': ['sub-01_part-mag_T1w.nii.gz', 'sub-01_part-mag_T1w.json', 'sub-01_part-phase_T1w.nii.gz', 'sub-01_part-phase_T1w.json']}, 'scans.tsv']}, {'ses-02': [{'func': ['sub-01_bold.nii.gz']}]}]}\n"
     ]
    }
   ],
   "source": [
    "tree = DirectoryTree(directory)\n",
    "tree.generate()"
   ]
  }
 ],
 "metadata": {
  "kernelspec": {
   "display_name": "Python 3",
   "language": "python",
   "name": "python3"
  },
  "language_info": {
   "codemirror_mode": {
    "name": "ipython",
    "version": 3
   },
   "file_extension": ".py",
   "mimetype": "text/x-python",
   "name": "python",
   "nbconvert_exporter": "python",
   "pygments_lexer": "ipython3",
   "version": "3.8.3"
  }
 },
 "nbformat": 4,
 "nbformat_minor": 4
}
