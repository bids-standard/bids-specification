{
 "cells": [
  {
   "cell_type": "code",
   "execution_count": null,
   "metadata": {},
   "outputs": [],
   "source": [
    "from examplecode.example import DirectoryTree"
   ]
  },
  {
   "cell_type": "code",
   "execution_count": null,
   "metadata": {},
   "outputs": [],
   "source": [
    "directory_list =  {\n",
    "                \"sub-01_part-mag_T1w.nii.gz\" : \"\", # leave this value empty for files\n",
    "                \"sub-01_part-mag_T1w.json\" : \"\",\n",
    "                \"sub-01_part-phase_T1w.nii.gz\" : \"  comments can be added here\",\n",
    "                \"sub-01_part-phase_T1w.json\" : \"        but padding them could be optimised\",\n",
    "}\n",
    "\n",
    "tree = DirectoryTree(directory_list)\n",
    "text = tree.generate()\n",
    "print(text)      "
   ]
  },
  {
   "cell_type": "code",
   "execution_count": null,
   "metadata": {},
   "outputs": [],
   "source": [
    "directory_dict =  {\n",
    "                    \"sub-01\": { # use nested dictionaries to represent directories\n",
    "                        \"sub-01_part-mag_T1w.nii.gz\" : \"\",\n",
    "                        \"sub-01_part-mag_T1w.json\" : \"\",\n",
    "                        \"sub-01_part-phase_T1w.nii.gz\" : \"\",\n",
    "                        \"sub-01_part-phase_T1w.json\" : \"\",\n",
    "                    },\n",
    "                    \"sub-02\": {\n",
    "                        \"sub-02_part-mag_T1w.nii.gz\" : \"\",\n",
    "                    }\n",
    "                    }\n",
    "\n",
    "tree = DirectoryTree(directory_dict)\n",
    "text = tree.generate()\n",
    "print(text)"
   ]
  },
  {
   "cell_type": "code",
   "execution_count": null,
   "metadata": {},
   "outputs": [],
   "source": [
    "nested_directory_dict =  {\n",
    "                        \"sub-01\" : {\n",
    "                            \"anat\": { # you can represent subdirectories by nesting directories\n",
    "                                \"sub-01_part-mag_T1w.nii.gz\" : \"\",\n",
    "                                \"sub-01_part-mag_T1w.json\" : \"\",\n",
    "                                \"sub-01_part-phase_T1w.nii.gz\" : \"\",\n",
    "                                \"sub-01_part-phase_T1w.json\" : \"\",\n",
    "                            }\n",
    "                        }\n",
    "                        }\n",
    "                        \n",
    "tree = DirectoryTree(nested_directory_dict)\n",
    "text = tree.generate()\n",
    "print(text)                        "
   ]
  },
  {
   "cell_type": "code",
   "execution_count": null,
   "metadata": {},
   "outputs": [],
   "source": [
    "directory = {  \n",
    "            \"my_processed_data\": {\n",
    "                \"code\":{\n",
    "                    \"processing_pipeline-1.0.0.img\" : \"\",\n",
    "                    \"hpc_submitter.sh\" : \"\",\n",
    "                    \"...\" : \"\",\n",
    "                },\n",
    "                \"sourcedata\": {\n",
    "                    \"sub-01\" : {}, # use empty dictionaries to represent directories without specifying their content\n",
    "                    \"sub-02\" : {},\n",
    "                    \"...\" : \"\",\n",
    "                },\n",
    "                \"sub-01\" : {},\n",
    "                \"sub-02\" : {},\n",
    "                \"...\" : \"\"\n",
    "                }\n",
    "            }\n",
    "\n",
    "tree = DirectoryTree(directory)\n",
    "text = tree.generate()\n",
    "print(text)"
   ]
  },
  {
   "cell_type": "code",
   "execution_count": null,
   "metadata": {},
   "outputs": [],
   "source": [
    "# you can also represent files and directories on the same level\n",
    "\n",
    "directory = {\n",
    "            \"dataset_description.json\" : \"\",\n",
    "            \"sub-01\" : {\n",
    "                \"sessions.tsv\" : \"\",\n",
    "                \"ses-01\" : {\n",
    "                    \"anat\" : {\n",
    "                        \"sub-01_part-mag_T1w.nii.gz\" : \"\",\n",
    "                        \"sub-01_part-mag_T1w.json\" : \"\",\n",
    "                        \"sub-01_part-phase_T1w.nii.gz\" : \"\",\n",
    "                        \"sub-01_part-phase_T1w.json\" : \"\",\n",
    "                        }\n",
    "                    },\n",
    "                    \"scans.tsv\": \"\",\n",
    "                },\n",
    "                \"ses-02\": {\n",
    "                    \"func\": {\n",
    "                        \"sub-01_bold.nii.gz\" : \"\",\n",
    "                    }\n",
    "                }\n",
    "            }\n",
    "\n",
    "tree = DirectoryTree(directory)\n",
    "text = tree.generate()\n",
    "print(text)"
   ]
  }
 ],
 "metadata": {
  "interpreter": {
   "hash": "aded1f873ee063edf62d355f8e2e52c31c8c9f762aca0dde433bdbbe96bd478f"
  },
  "kernelspec": {
   "display_name": "Python 3",
   "language": "python",
   "name": "python3"
  },
  "language_info": {
   "codemirror_mode": {
    "name": "ipython",
    "version": 3
   },
   "file_extension": ".py",
   "mimetype": "text/x-python",
   "name": "python",
   "nbconvert_exporter": "python",
   "pygments_lexer": "ipython3",
   "version": "3.8.3"
  }
 },
 "nbformat": 4,
 "nbformat_minor": 4
}
